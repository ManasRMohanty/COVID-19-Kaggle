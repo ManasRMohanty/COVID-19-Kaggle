{
 "cells": [
  {
   "cell_type": "code",
   "execution_count": 2,
   "metadata": {},
   "outputs": [],
   "source": [
    "import pandas as pd\n",
    "from CHEMDNER_ProcessText import get_chemicals_from_text\n",
    "from ADE_ProcessText import get_drugs_from_text"
   ]
  },
  {
   "cell_type": "code",
   "execution_count": 4,
   "metadata": {},
   "outputs": [],
   "source": [
    "all_articles = pd.read_csv(\"C:/Users/itsma/Documents/ADE/CORD-19-research-challenge/2020-03-13/metadata.csv\")"
   ]
  },
  {
   "cell_type": "code",
   "execution_count": 5,
   "metadata": {},
   "outputs": [
    {
     "data": {
      "text/plain": [
       "Index(['sha', 'source_x', 'title', 'doi', 'pmcid', 'pubmed_id', 'license',\n",
       "       'abstract', 'publish_time', 'authors', 'journal',\n",
       "       'Microsoft Academic Paper ID', 'WHO #Covidence', 'has_full_text',\n",
       "       'full_text_file'],\n",
       "      dtype='object')"
      ]
     },
     "execution_count": 5,
     "metadata": {},
     "output_type": "execute_result"
    }
   ],
   "source": [
    "all_articles.columns"
   ]
  },
  {
   "cell_type": "code",
   "execution_count": 6,
   "metadata": {},
   "outputs": [],
   "source": [
    "all_articles = all_articles.dropna(subset=['title'])\n",
    "all_articles['title'] = all_articles.apply(lambda x:x.title.lower(), axis=1)"
   ]
  },
  {
   "cell_type": "code",
   "execution_count": 7,
   "metadata": {},
   "outputs": [],
   "source": [
    "all_articles_vaccine = all_articles[all_articles['title'].str.contains('vaccine|therapy|vaccination',regex=True)]"
   ]
  },
  {
   "cell_type": "code",
   "execution_count": 9,
   "metadata": {},
   "outputs": [
    {
     "data": {
      "text/plain": [
       "2107"
      ]
     },
     "execution_count": 9,
     "metadata": {},
     "output_type": "execute_result"
    }
   ],
   "source": [
    "len(all_articles_vaccine)"
   ]
  },
  {
   "cell_type": "code",
   "execution_count": 10,
   "metadata": {},
   "outputs": [
    {
     "name": "stdout",
     "output_type": "stream",
     "text": [
      "1000  done.\n",
      "2000  done.\n",
      "3000  done.\n",
      "4000  done.\n",
      "Error processing: pédiatrie\n",
      "Error processing: abkürzungsverzeichnis\n",
      "Error processing: abkürzungen\n",
      "Error processing: abkürzungen\n",
      "Error processing: abkürzungen\n",
      "Error processing: abkürzungsverzeichnis\n",
      "Error processing: abkürzungen\n",
      "Error processing: abkürzungen\n",
      "Error processing: abkürzungsverzeichnis\n",
      "Error processing: abkürzungsverzeichnis\n",
      "5000  done.\n",
      "6000  done.\n",
      "Error processing: sterols of the marine sponge petrosia weinbergi: implications for the absolute configurations of the antiviral orthoesterols and weinbersterols\n",
      "Error processing: efficient diastereoselective synthesis of a new class of azanucleosides: 2′-homoazanucleosides\n",
      "7000  done.\n",
      "8000  done.\n",
      "9000  done.\n",
      "10000  done.\n",
      "11000  done.\n",
      "Error processing: actualités\n",
      "Error processing: actualités\n",
      "12000  done.\n",
      "Error processing: cholesterol 25-hydroxylase negatively regulates porcine intestinal coronavirus replication by the production of 25-hydroxycholesterol\n",
      "Error processing: bericht über das 12. ulmer symposium „krankenhausinfektionen” vom 15. bis 17. märz 2017#\n",
      "13000  done.\n",
      "14000  done.\n",
      "Error processing: non-uv germicidal activity of fresh tio2 and ag/tio2\n",
      "15000  done.\n",
      "Error processing: flow-injection chemiluminescence determination of chrysin and baicalein assisted by theoretical prediction of chemiluminescence behavior of chrysin and baicalein\n",
      "16000  done.\n",
      "17000  done.\n",
      "Error processing: éditorial\n",
      "Error processing: législation\n",
      "18000  done.\n",
      "19000  done.\n",
      "20000  done.\n",
      "21000  done.\n",
      "22000  done.\n",
      "23000  done.\n",
      "Error processing: [pyr(1)]apelin-13((1–12)) is a biologically active ace2 metabolite of the endogenous cardiovascular peptide [pyr(1)]apelin-13\n",
      "24000  done.\n",
      "25000  done.\n",
      "26000  done.\n",
      "27000  done.\n",
      "28000  done.\n",
      "29000  done.\n",
      "30000  done.\n",
      "Error processing: effective one-pot multienzyme (opme) synthesis of monotreme milk oligosaccharides and other sialosides containing a 4-o-acetyl sialic acid()\n",
      "31000  done.\n",
      "32000  done.\n",
      "33000  done.\n",
      "Error processing: cd133作为肺癌干细胞标记物的应用及其局限性\n",
      "34000  done.\n",
      "Error processing: 应用多肽芯片研究非小细胞肺癌患者血清中的egfr自身抗体\n",
      "35000  done.\n",
      "36000  done.\n",
      "37000  done.\n",
      "38000  done.\n",
      "39000  done.\n",
      "40000  done.\n",
      "Error processing: comparative domain modeling of human egf-like module emr2 and study of interaction of the fourth domain of egf with chondroitin 4-sulphate()\n",
      "41000  done.\n",
      "42000  done.\n",
      "43000  done.\n"
     ]
    }
   ],
   "source": [
    "all_processed_articles = []\n",
    "count = 0\n",
    "for index,row in all_articles.iterrows():\n",
    "    try:\n",
    "        count = count + 1\n",
    "        word_list = get_chemicals_from_text(row['title'])\n",
    "        drug_list = []\n",
    "\n",
    "        for index1,row1 in word_list.iterrows():\n",
    "            drugs = get_chemicals_from_text(row1['word'])\n",
    "            if(len(drugs)>0):\n",
    "                drug_list.append(row1)\n",
    "\n",
    "        row['word_list'] = drug_list\n",
    "\n",
    "        all_processed_articles.append(row)\n",
    "        if(count%1000==0):\n",
    "            print(count, \" done.\")\n",
    "    except:\n",
    "        print(\"Error processing:\",row['title'])"
   ]
  },
  {
   "cell_type": "code",
   "execution_count": null,
   "metadata": {},
   "outputs": [],
   "source": [
    "all_processed_articles"
   ]
  },
  {
   "cell_type": "code",
   "execution_count": null,
   "metadata": {},
   "outputs": [],
   "source": [
    "\"ABC/XYZ\".replace(\"/\",\" \")"
   ]
  },
  {
   "cell_type": "code",
   "execution_count": null,
   "metadata": {},
   "outputs": [],
   "source": [
    "import re"
   ]
  },
  {
   "cell_type": "code",
   "execution_count": null,
   "metadata": {},
   "outputs": [],
   "source": [
    "if(re.match(\"[A-Za-z0-9]\",\"I\")):\n",
    "    print(\"True\")\n",
    "else:\n",
    "    print(\"False\")"
   ]
  },
  {
   "cell_type": "code",
   "execution_count": null,
   "metadata": {},
   "outputs": [],
   "source": [
    "len(all_processed_articles)"
   ]
  },
  {
   "cell_type": "code",
   "execution_count": 11,
   "metadata": {},
   "outputs": [],
   "source": [
    "drug_list = []\n",
    "for entry in all_processed_articles:\n",
    "    for drug in entry['word_list']:\n",
    "        drug_list.append(drug['word'])"
   ]
  },
  {
   "cell_type": "code",
   "execution_count": 12,
   "metadata": {},
   "outputs": [
    {
     "data": {
      "text/plain": [
       "1501"
      ]
     },
     "execution_count": 12,
     "metadata": {},
     "output_type": "execute_result"
    }
   ],
   "source": [
    "len(set(drug_list))"
   ]
  },
  {
   "cell_type": "code",
   "execution_count": null,
   "metadata": {},
   "outputs": [],
   "source": [
    "drug_list"
   ]
  },
  {
   "cell_type": "code",
   "execution_count": 16,
   "metadata": {},
   "outputs": [
    {
     "name": "stdout",
     "output_type": "stream",
     "text": [
      "Frequency of the elements in the List :  Counter({'amino acid': 65, 'ribavirin': 56, 'nitric oxide': 51, 'cysteine': 50, 'chloroquine': 40, 'serine': 38, 'sialic acid': 38, 'cholesterol': 30, 'glycyrrhizin': 28, 'zinc': 27, 'amino acids': 22, 'oxygen': 22, 'nucleoside': 20, 'disulfide': 20, 'tyrosine': 20, 'lactate': 19, 'carbon': 19, 'quercetin': 18, 'silver': 18, 'carbohydrate': 17, 'phosphatidylinositol': 17, 'niclosamide': 17, 'glycyrrhizic acid': 16, 'lopinavir': 16, 'oseltamivir': 15, 'ritonavir': 15, 'calcium': 12, 'flavonoids': 12, 'sodium': 11, 'sialic acids': 11, 'nitazoxanide': 11, 'remdesivir': 11, 'lactic acid': 11, 'aurintricarboxylic acid': 10, 'arbidol': 10, 'vitamin d': 10, 'hydrogen peroxide': 10, 'corticosteroids': 10, 'resveratrol': 10, 'serotonin': 9, 'nucleotides': 9, 'lycorine': 9, 'adenosine': 9, 'mannose': 8, 'potassium': 8, 'carboxyl': 8, 'fatty acids': 8, 'lithium chloride': 8, 'carbon dioxide': 8, 'steroid': 8, 'curcumin': 8, 'camp': 8, 'cocaine': 7, 'cyclosporin a': 7, 'brefeldin a': 7, 'formyl': 7, 'vitamin c': 7, 'graphene oxide': 7, 'flavonoid': 7, 'leucine': 7, 'glucose-6-phosphate': 7, 'dopamine': 6, 'dexamethasone': 6, 'alcohol': 6, 'bismuth': 6, 'polypyrimidine': 6, 'lactoferrin': 6, 'luteolin': 6, 'glutamine': 6, 'amantadine': 6, 'neopterin': 6, 'arginine': 6, 'nucleosides': 6, 'copper': 6, 'histidine': 6, 'carboxy': 5, 'saponin': 5, 'halofuginone lactate': 5, 'fatty acid': 5, 'methylprednisolone': 5, 'hydrogen': 5, 'cysteines': 5, 'lysine': 5, 'azithromycin': 5, 'favipiravir': 5, 'teicoplanin': 5, 'silvestrol': 5, 'myricetin': 5, 'paracetamol': 5, 'schiff bases': 5, 'phosphatidylserine': 5, 'poly(adp-ribose)': 5, 'na(+)': 5, 'pyrimidine': 5, 'ca2+': 5, 'carbohydrates': 5, 'buprenorphine': 5, 'nitrate': 4, 'cytidine': 4, 'chloride': 4, 'tunicamycin': 4, 'histamine': 4, 'tannins': 4, 'phlorotannins': 4, 'nidovirales': 4, 'corticosteroid': 4, 'nelfinavir': 4, 'phenolic': 4, 'acyclic nucleoside phosphonates': 4, 'isoxazolidine': 4, 'graphene': 4, 'methylene blue': 4, 'cyclophosphamide': 4, 'indirubin': 4, 'rosiglitazone': 4, 'phosphate': 4, 'cidofovir': 4, 'zanamivir': 4, 'gallic acid': 4, 'levofloxacin': 4, 'sodium taurocholate': 4, 'glycyrrhetinic acid': 4, 'doxycycline': 4, 'k(+)': 4, 'n-glycolylneuraminic acid': 4, 'iron': 4, 'adamantane': 4, 'polyacrylamide': 3, 'brefeldin': 3, 'cortisol': 3, 'superoxide': 3, 'alanyl': 3, 'bradykinin': 3, 'coumarins': 3, 'amiodarone': 3, 'nitrogen dioxide': 3, 'ergosterol': 3, 'copper(ii)': 3, 'alumina': 3, 'hydroxyapatite': 3, 'lactose': 3, 'thymopentin': 3, 'polycyclic aromatic hydrocarbons': 3, 'actinomycin d': 3, 'baicalein': 3, 'aldehyde': 3, 'losartan': 3, 'corticosterone': 3, 'fluticasone propionate': 3, 'prednisolone': 3, 'melamine': 3, 'flavone': 3, 'thiol': 3, 'polyoxometalates': 3, 'cyclosporine': 3, 'polyphenols': 3, 'mycophenolic acid': 3, 'threonine': 3, '6-thioguanine': 3, 'ochratoxin a': 3, 'alisporivir': 3, 'chlorine': 3, '4-aminoquinoline': 3, 'dipeptide': 3, '1,2,3-triazole': 3, 'toltrazuril': 3, 'capsaicin': 3, 'chlorogenic acid': 3, 'hydroxynaphthol blue': 3, 'carbapenem': 3, 'saikosaponins': 3, 'isoflavones': 3, 'geranylated flavonoids': 3, 'manganese': 3, 'polyoxometalate': 3, 'sevoflurane': 3, 'medetomidine': 3, '25-hydroxyvitamin d': 3, 'zn(2+)': 3, 'glutathione': 3, 'zinc oxide': 3, 'pge(2)': 3, 'triterpene': 3, 'bortezomib': 3, 'colistin': 3, 'polyamine': 3, 'melatonin': 3, 'vitamin a': 3, 'amikacin': 3, 'phosphorodiamidate': 3, 'isoflurane': 3, 'h(+)': 3, 'glutamate': 3, 'sphingosine-1-phosphate': 3, 'aminoglycoside': 3, 'guanine nucleotide': 3, 'hygromycin b': 3, 'cortisone': 3, 'prostaglandin e2': 2, 'verapamil': 2, 'oxytocin': 2, 'prostaglandin': 2, 'amine': 2, '7-thia-8-oxoguanosine': 2, 'cycloheximide': 2, 'diethylcarbamazine': 2, 'ammonium sulphate': 2, '1,2,3-triazoles': 2, 'polyolefins': 2, 'emtricitabine': 2, 'diarylheptanoids': 2, 'sugars': 2, 'pneumonie': 2, 'digoxin': 2, 'thiopurine': 2, 'phosphatidylinositol 4-phosphate': 2, 'polystyrene': 2, 'vanadium': 2, 'α-amino acids': 2, 'triptolide': 2, 'benserazide': 2, 'methanol': 2, '1,4-dioxane': 2, 'α-tocopherol': 2, 'formalin': 2, 'aza-peptide epoxide': 2, 'benzotriazole': 2, 'caffeine': 2, 'polyinosinic:polycytidylic acid': 2, 'baicalin': 2, 'glutamic acid': 2, '3,3-di(indolyl)indolin-2-ones': 2, 'oxindoles': 2, 'diterpenes': 2, 'carbon black': 2, 'aromatic amino acid': 2, 'penicillin': 2, 'polyethyleneimine': 2, 'semicarbazones': 2, 'ethylene glycol': 2, 'poly-γ-glutamic acid': 2, 'icaritin': 2, 'mizoribine': 2, 'quercetin 7-rhamnoside': 2, 'procyanidins': 2, 'diammonium glycyrrhizinate': 2, 'phenanthroquinolizidines': 2, 'octaguanidinium': 2, 's-adenosyl-l-methionine': 2, 'celastrol': 2, 'disulfiram': 2, 'folic acid': 2, 'isoxazolidine nucleotide': 2, 'guanine': 2, '4-thiazolidinones': 2, 'dihydrofolate': 2, '5-fluorouracil': 2, 'primaquine': 2, 'pyrazolone': 2, 'l-arginine': 2, 'poly i:c': 2, 'deoxynivalenol': 2, 'benzodiazepine': 2, 'co2': 2, 'hexachlorophene': 2, 'triclosan': 2, 'triterpenoids': 2, 'zinc salts': 2, 'theaflavins': 2, 'cadmium': 2, 'oxymatrine': 2, 'hydrocortisone': 2, 'indole alkaloids': 2, 'tryptanthrin': 2, 'phenolic acids': 2, 'catechin': 2, 'vancomycin': 2, 'amphotericin b': 2, 'amiloride': 2, '25-hydroxycholesterol': 2, 'hydroxyl': 2, 'fluoroquinolones': 2, 'anthraquinones': 2, 'cepharanthine': 2, 'poly(adp-ribosyl)ation': 2, 'phosphoramidate': 2, 'adefovir': 2, 'decahydroisoquinolin': 2, 'hydroxytyrosol': 2, 'tio2': 2, 'glyceraldehyde 3-phosphate': 2, 'benzotriazole esters': 2, 'tulathromycin': 2, 'polyprenyl': 2, 'thiamine': 2, 'bacitracin': 2, 'psoralen': 2, 'aspirin': 2, 'calcium phosphate': 2, 'loperamide': 2, 'egcg': 2, 'cycloartenol triterpenoid saponins': 2, 'cinanserin': 2, 'busulfan': 2, 'tacrolimus': 2, 'glucosinolates': 2, 'formoterol': 2, 'budesonide': 2, 'andrographolide': 2, 'hydroxychloroquine': 2, 'ledipasvir': 2, 'chloroquine phosphate': 2, 'salmeterol': 2, 'aspartic acid': 2, 'muramyl dipeptide': 2, 'polyethylenimine': 2, 'dcba': 2, 'clarithromycin': 2, 'simvastatin': 2, 'pentraxin 3': 2, 'illumina': 2, 'disulphide': 2, 'ellagic acid': 2, 'icariin': 2, 'steroidal': 2, 'phosphatidic acid': 2, 'prolyl': 2, 'phosphorodiamidate morpholino': 2, 'urea': 2, 'retinoic acid': 2, 'amide': 2, 'sphingosine': 2, 'titanium dioxide': 2, 'α-cyclodextrin': 2, 'serotine': 2, 'aluminum': 2, 'nicotine': 2, 'adenine': 2, 'gemcitabine': 2, 'ursolic acid': 2, 'amino-acid': 2, '(1)h': 2, 'homoharringtonine': 2, 'chloroquine diphosphate': 2, 'itraconazole': 2, 'ca(2+)': 2, 'schiff base': 2, 'cmp-n-glycolylneuraminic acid': 2, '7,9-o-acetyl': 2, 'nh(4)cl': 2, 'lignans': 2, 'dipeptidyl': 2, 'cyclosporin': 2, 'ribophorins': 2, '2,4-dichlorobenzyl alcohol': 2, 'tryptophan': 2, '2′-o-methyl': 2, 'iron oxide': 2, 'povidone iodine': 2, '5-fu': 2, 'poly(a': 2, 'sialic-acid': 2, 'ketamine–xylazine': 2, 'propofol': 2, 'meloxicam': 2, 'pyrrolidine dithiocarbamate': 2, 'chlorine dioxide': 2, 'chlorcyclizine': 2, '2′-o-ribose': 2, 'glyceraldehyde-3-phosphate': 2, 'o-acetylated sialic acid': 2, 'lignocaine': 2, '(13)c': 2, 'ketoprofen': 2, 'vitamin e': 2, 'alkyl': 2, 'phosphorothioate': 2, '7-methyl guanosine': 2, 'ampicillin': 2, 'amines': 2, 'l-tryptophan': 2, 'sodium arsenite': 2, 'amodiaquine': 2, 'bafilomycin a1': 2, 'promazine': 2, 'lauric acid': 1, 'dieldrin': 1, 'carbodine': 1, 'n-hydroxy-n′-aminoguanidine': 1, 'cyclopentenylcytosine': 1, 'carbocyclic nucleoside': 1, 'galactose': 1, 'l-glutamine': 1, 'clonidine': 1, 'diterpene aldehyde': 1, 'dimethylamine': 1, 'na+': 1, 'k+': 1, 'palytoxin': 1, 'sulfhydryl': 1, 'ammonium chloride': 1, 'γ-butyrolactone': 1, 'chloral hydrate': 1, 'ibogaine': 1, '3′,5′-vdenosine manophosphate': 1, 'campy': 1, 'epinephrine': 1, 'ornithine': 1, 'thalidomide': 1, '4902685 2-amino-3-cyano-bicyclic pyridines': 1, 'pyrazines': 1, 'daptomycin': 1, 'prostaglandins': 1, 'oestrone': 1, 'mptp': 1, '1-methyl-4-phenyl-1,2,3,6-tetrahydropyridine': 1, 'trifluorothymidine': 1, 'd-xylose': 1, 'castanospermine': 1, '8-chloro-7-deazaguanosine': 1, '1-(2′-hydroxy-5′-methoxybenzylidene)amino-3-hydroxyguanidine tosylate': 1, 'paromomycin': 1, 'papaverine': 1, 'hydroxyguanidine': 1, 'n-acetyl-9-o-acetylneuraminic': 1, 'orthophthalaldehyde': 1, 'nedocromil': 1, 'phosphatidylcholine': 1, 'difucosyl y2': 1, 'methylene chloride': 1, 'azodicarbonamide': 1, 'ferrocene': 1, '1,1-dichloro-1-fluoroethane': 1, 'l-sorbose': 1, 'polycrylamide': 1, 'o,s,s,-trimethyl phosphorodithioate': 1, 'atrazine': 1, 'thymidine': 1, 'acyloxyacyl': 1, 'acidic polycyclic ether': 1, '3,3′-iminodipropionitrile': 1, 'steviol glucosides': 1, 'cyclo(his-pro)': 1, 'shikimic acid': 1, 'oxathiolane nucleoside': 1, 's-nitrosothiols': 1, 'xanthones': 1, 'pleconaril': 1, 'atemorgane': 1, 'toluidine blue o': 1, 'berberine': 1, 'butylated-β-cyclodextrin': 1, 'choline': 1, 'carbosilane': 1, 'acetyl': 1, 'acetate': 1, '2-(cyclohexylamino)ethanesulfonic acid': 1, 'tylvalosin': 1, 'arsenicum': 1, 'acetylated sialosides': 1, 'poly (lactide co-glycolide)': 1, 'copper phenanthroline': 1, 'zinc acetate': 1, 'ribavarin': 1, 'perfluorocarbon': 1, 'terpenoids': 1, 'perfluorocarbo': 1, 'magnesium sulfate': 1, 'tetrandrine': 1, 'cepharanthine hydrochloride': 1, 'erythromycin': 1, 'aromatic n-oxide': 1, 'dialdehyde': 1, '4-halo (cl,br) pyridine n-oxide': 1, 'ribavirin (ii)': 1, 'n-propanol': 1, 'acetonitrile': 1, 'pyridine monocarboxylate-n-oxides': 1, '18β-glycyrrhetic acid': 1, '18α-glycyrrhetic acid': 1, 'clemastanin b': 1, 'indigoticoside a': 1, 'butaphosphan': 1, 'vitamins a, d,': 1, 'nitrogen': 1, 'polyunsaturated fatty acid': 1, 'sodium bicarbonate': 1, 'gossypol': 1, 'β-amino-α-trifluoromethyl alcohols': 1, 'dipeptidyl (amino': 1, 'dipeptidyl (carboxy)peptidase': 1, 'β-lactone': 1, '2′,3′-cyclic nucleotide': 1, '4-methylpyridine-n-oxide': 1, 'poly-butylcyanoacrylate': 1, 'ritronavir': 1, 'trinucleotides': 1, 'pseudo amino acid': 1, 'saikosaponin b2': 1, 'pahs': 1, 'triterpenoid saponins': 1, 'cyclopeptide alkaloids': 1, 'ccl4': 1, '(+)-catechin': 1, '2β,3α-dihydroxy-5α-cholestane': 1, 'trifluoromethyl ketone': 1, '2-cyano': 1, '2-amido aziridinyl': 1, 'n-methyl-d-ribopyranuronamide nucleosides': 1, '2-benzenesulfonyl-3-(4-nitrophenyl)oxaziridine': 1, 'polysubstituted pyrimidinyl-': 1, '1,3,5-triazinylphosphonic acids': 1, 'n-methyl amino acids': 1, '2-(phosphonomethoxy)propanoic acid': 1, 'pyrane': 1, '1,3-oxazin': 1, 'ethyl dibromofluoroacetate': 1, 'epi-thieno': 1, 'phenanthroquinolizidine alkaloids': 1, 'homonucleotides': 1, 'haloacetylenes': 1, 'fluorinated acyclic nucleoside phosphonates': 1, '5-azacytosine': 1, 'haplosamates a': 1, 'steroidal sulfamate esters': 1, 'α-aminoaldehydes': 1, '5-o-benzoyl-1,2-isopropylidene-3-o-imidazolylthiocarbonyl-α-d-xylofuranose': 1, 'dimethyl phosphite': 1, '3′-deoxynucleoside glycosyl': 1, 'glycosylated flavonols': 1, '4-(arylsulfonyl)phenols': 1, '1,3-bis(silyloxy)-1,3-butadienes': 1, '2-arylsulfonyl-3-ethoxy-2-en-1-ones': 1, '2-fluoroaziridine-2-carboxylates': 1, 'aza-darzens': 1, 'n 1-aryl benzotriazoles': 1, 'diazoamino arynes': 1, '2-(3-benzyl-2,4-dioxo-1,2,3,4-tetrahydropyrimidin-1-yl)-n-phenylacetamides': 1, '3-indolyl-3-hydroxy oxindoles': 1, 'sulfonated β-cd': 1, '2-oxaadamantan-5-amine': 1, 'glycyrrhetic acid polyglycosides': 1, 'cyclic sulfite': 1, 'pyridoxine': 1, 'ortho-pyridinone': 1, '[(ni x mn1- x )0.84cu0.16]3o4': 1, 'cardenolides': 1, 'ouabain': 1, 'hexamethylene amiloride': 1, 'cytosine': 1, 'guanine-n-7': 1, 'aryl methylene ketones': 1, 'fluorinated methylene ketones': 1, '3-fluoro-6-s-(2-s-pyridyl) nucleosides': 1, 'imidazo[2,1-b]thiazole': 1, 'dicarboxylate': 1, 'bisphenol a': 1, 'acyclonucleosides': 1, 'acridines': 1, '[63] fatty acid': 1, 'sodium cromoglycate': 1, 'sulfolipid-1': 1, 'gonadotropin-releasing hormone': 1, 'noniridoid bisindole alkaloids': 1, 'no2': 1, 'amoxicillin–clavulanate': 1, 'theophylline': 1, 'lycopene': 1, 'poly(vinyl alcohol)': 1, 'chalcones': 1, 'pyrazolines': 1, 'polyols': 1, 'glycerol': 1, 'magnesium': 1, 'zinc oxide–sodium': 1, 'deltamethrin': 1, 'vitamins c': 1, 'al2o3': 1, 'ru(ii)–co(iii) polypyridyl': 1, 'silicate': 1, 'micafungin': 1, 'fatty acid methyl ester': 1, '5-bromo-2′-deoxyuridine': 1, 'clodronate': 1, 'α-fodrin': 1, 'hexaprime': 1, 'propidium monoazide': 1, 'ethidium bromide monoazide': 1, 'digoxigenin': 1, 'ethacrynic': 1, 'α-lipoic acids': 1, 'cyclobutenedione': 1, 'butanol': 1, 'flaviviral': 1, 'phenanthroindolizines': 1, 'calix[4]arenes': 1, 'polycyclic amine': 1, '2-deoxy-d-glucose': 1, '4-oxo- or thioxo-4,5-dihydrofuro[3,4-c]pyridin-3(1h)-ones': 1, 'chlorpromazine': 1, 'theaflavin digallate': 1, 'benzimidazole': 1, 'mercaptobenzamide': 1, 'fexaramine': 1, 'celecoxib': 1, 'losmapimod': 1, 'heterocyclic schiff bases': 1, 'aminohydroxyguanidine tosylate': 1, 'organophosphates': 1, 'rasputin': 1, 'ammonium': 1, 'zeolite': 1, 'tetranortriterpenoid': 1, 'fk506': 1, 'anisomycin': 1, 'phenolic acid': 1, 'polyarginine': 1, 'polyesters': 1, 'imidazopyridines': 1, 'penta-o-galloyl-glucose': 1, 'ribophorin ii': 1, 'mannitol': 1, 'violet': 1, 'indomethacin': 1, 'zinc pyrithione': 1, 'triethylene glycol': 1, 'stilbene': 1, '3-adamantyl-substituted thiazolidin-4-ones': 1, 'quercetin-3-o-amino acid-esters': 1, 'dideoxy fluoro-ketopyranosyl nucleosides': 1, '2,3-': 1, '3,4-dideoxy-3-fluoro-4-': 1, '-2-keto-β-d-glucopyranosyl': 1, 'n 4-benzoyl cytosine': 1, 'phenylbenzoimidazoles': 1, 'benzoimidazo[1,2-c]quinazolines': 1, 'β-d-arabino furan[1′,2′:4,5]oxazolo-': 1, 'arabino-pyrimidinone': 1, 'benzylidene': 1, '2-chlorobenzylidene hydrazides': 1, '3′-n,n-dimethylamino-2′,3′-dideoxythymidine': 1, '2-phenyl quinazoline-4(3)h-ones': 1, '4-[1-(substituted aryl': 1, 'alkyl carbonyl)-benzoimidazol-2-yl]-benzenesulfonic acids': 1, '1-(amino-n-arylmethanethio)-3-(1-substituted benzyl-2, 3-dioxoindolin-5-yl) urea': 1, 'acyclic nucleoside thiophosphonates': 1, 'branched-chain c-cyano pyranonucleosides': 1, '3′-c-cyano': 1, '3′-c-cyano-3′-deoxy pyrimidine pyranonucleosides': 1, '2,6-bis-arylmethyloxy-5-hydroxychromones': 1, 'platinum(ii)': 1, 'palladium(ii)': 1, 'thiosemicarbazones': 1, '5-substitutedthiophene-2-carboxaldehydes': 1, '1-acyl-4-cycloalkyl': 1, 'arylsemicarbazides': 1, '1-acyl-5-benzyloxy': 1, 'hydroxy carbamoylcarbazides': 1, '2-aminopyrimidine': 1, 'cinnamic acids': 1, 'hexadecyloxypropyl': 1, 'nucleoside phosphonates': 1, 'hypoxanthine': 1, '5-pyrazoline': 1, '4-aminoquinoline–pyrimidine': 1, 'thiazole': 1, '1,3,4-oxadiazoles': 1, '6-substituted-2-amino-5-bromo-4(3h)-pyrimidinones': 1, 'bis(pom)': 1, 'acyclic nucleosides': 1, '2-oxonicotinonitriles': 1, '2-oxonicotinonitrile': 1, 'n-propargylated isatin-mannich': 1, 'β-amino-alcohol': 1, '1h-1,2,3-triazole': 1, 'xanthatin': 1, 'l-ascorbic or imino-l-ascorbic acid': 1, 'abietane ferruginol': 1, '(+)-dehydroabietylamine': 1, 'pyrazole': 1, 'amino-acid ester thiazolide': 1, 'quinazoline-2,4-diones': 1, 'phosphonate': 1, 'dihydropyrimidinones': 1, 'cycloguanil': 1, 'aromatic disulfides': 1, '5-ene-4-thiazolidinones': 1, '(e)-but-2-enyl nucleoside phosphonoamidates': 1, 'azaspiro dihydrotriazines': 1, '5-phenylisatin': 1, '3′-c-ethynyl-β-d-ribofuranose purine nucleoside': 1, 'oxaliplatin': 1, 'β-cyclodextrin-glycyrrhetinic acid': 1, 'pyrithiobac': 1, '3,4,5-trimethoxycinnamic acid': 1, '4-substituted 1,2,3-triazolyl-2,3-dibenzyl-l-ascorbic acid': 1, '6′-β-fluoro-homoaristeromycin': 1, 'n-alkoxy indolylacetamide': 1, 'β-cyclodextrins': 1, 'oxalate': 1, 'n-methyl meglumine': 1, 'phenylsulfinylacetic acids': 1, 'oxo(salen)chromium(v)': 1, 'triazolo-benzodiazepine': 1, 'norepinephrine': 1, 'n-formyl': 1, 'actinonin': 1, 'iopromide': 1, 'peroxydisulfate': 1, 'sio2–ag': 1, 'dioxins': 1, 'persulfate': 1, '7-ketocholesterol': 1, 'p-chloro-m-cresol': 1, 'diclazuril': 1, 'halofuginone': 1, 'lactoferrin a': 1, '[125i]rb 129': 1, 'dpph': 1, 'apigenin': 1, 'chrysoeriol': 1, 'diosmetin': 1, 'forsythoside a': 1, 'acetyl-coa': 1, 'mefloquine': 1, 'estradiol benzoate': 1, 'anthraquinone': 1, 'pentacyclic triterpenoids': 1, 'glucosinolate': 1, 'ribavirine': 1, '2,4-dichlorbenzylalkohol': 1, 'levomenthol': 1, 'procyanidin b2': 1, 'voriconazole': 1, 'vancomycine': 1, 'linezolid': 1, 'tobramycin': 1, 'cytochalasin b': 1, 'fongizone': 1, '27-hydroxycholesterol': 1, 'proanthocyanidin': 1, 'ascorbic acid': 1, 'dihydromyricetin': 1, 'mupirocin': 1, 'des-fluoro(6)-quinolone': 1, 'pentoxifylline': 1, 'fluoroquinolone': 1, 'l-cysteine': 1, 'cu2+': 1, 'poly(allyl-α-d-glucopyranose': 1, 'styrene)': 1, 'fe3o4': 1, 'poly(n-isopropylacrylamide)': 1, 'h3pmo12o40': 1, 'poly(lactic-co-glycolic acid)': 1, 'pilocarpine hydrochloride': 1, 'poly(d,l-lactide-co-glycolide)': 1, 'methadone': 1, 'glassy carbon': 1, 'polylysine': 1, 'polycarbonate': 1, 'imidoesters': 1, '(r)-': 1, '(s)-β-hydroxyphosphonate acyclonucleosides': 1, 'adefovir (pmea': 1, 'purines': 1, '1-[5-(4-bromophenoxy)pentyl]-3-(2-arylamino- 2-oxoethyl)uracils': 1, '2-substituted benzoxazinone': 1, 'aziridinyl': 1, '6-chloropurine': 1, '3-substituted 1-β-d-ribofuranosyl-1,2,4-triazoles': 1, '5-isoxazol-5-yl-2′-deoxyuridines': 1, 'aryl diketoacids': 1, 'n′-(2-oxoindolin-3-ylidene)benzohydrazides': 1, 'esters': 1, 'dihydroxychromone': 1, 'thiosemicarbazone': 1, 'quinone-methide triterpenes': 1, 'pyrimidines': 1, '1′-substituted 4-aza-7,9-dideazaadenosine': 1, 'scutellarein': 1, '2-fluoro-2-deoxyribose-1-phosphate': 1, '2,2-difluoro-2-deoxyribose-1-phosphate': 1, 'methylsulfinyladenosine': 1, '3′-c-ethynyladenosine': 1, '3-hydroxy-quinazoline-2,4(1h,3h)-diones': 1, '4-substituted 3,4-dihydropyrimidinones': 1, 'phenylisoserine': 1, '5′-hydroxy-5′-homoaristeromycin': 1, '3-acyl-2-phenylamino-1,4-dihydroquinolin-4(1h)-one': 1, '4-hydroxy-1-methylindole': 1, 'benzo[b]thiophen-4-ol': 1, 'tetrabutylammonium': 1, 'α,β-unsaturated esters': 1, 'quinoxaline': 1, 'quercetin-3-β-galactoside': 1, 'iso-d-2′,3′-dideoxy-3′-fluorothianucleoside': 1, 'pyrimidine cyclopentenyl': 1, '2′-deoxyadenosine': 1, '3-chloropyridine': 1, 'trifluoromethyl ketones': 1, 'taxchinin a': 1, 'unsaturated acyclic c-5 pyrimidine nucleoside': 1, 'acyclic azanucleosides': 1, 'sulfanilamide': 1, '1,3-bis(trimethylsilyloxy)-1,3-butadienes': 1, 'arylsulfonylcyanides': 1, '4-hydroxy-2-(arylsulfonyl)pyridines': 1, '(z)-4-ylidenebenzo[b]furo[3,2-d][1,3]oxazines': 1, 'acyclic 2′-azanucleosides': 1, 'phosphonomethoxy': 1, 'aminoarylazo': 1, 'aryltriazene': 1, 'phosphoramidates': 1, '2′-β-d-arabinouridine': 1, 'biflavonoids': 1, 'dipeptides': 1, 'l-bicyclo[3.1.0]hexenyl carbanucleosides': 1, '2′-deoxy-2′,2′-difluoro-5-halouridine phosphoramidate': 1, '2-(2-phosphonoethoxy)ethyl': 1, '1-[2-(2-benzoyl-': 1, '2-benzylphenoxy)ethyl]uracils': 1, 'penicillin v': 1, 'nalidixic acid': 1, 'n1,n3-disubstituted uracils': 1, '9-[2-(r)-(phosphonomethoxy)propyl]-2,6-diaminopurine (r)-pmpdap': 1, 'carbamoyl': 1, '1-[ω-(phenoxy)alkyl]uracil': 1, 'quaternary ammonium camphor': 1, '5-sulfonyl isatin': 1, 'ω-(1h-1,2,3-triazol-1-yl)(polyhydroxy)alkylphosphonates': 1, '2-deoxy-d-ribose-1-phosphate': 1, 'amonafide': 1, 'dihydrocaffeoyl catechols': 1, '2-uracil-3-yl-n-(4-phenoxyphenyl)acetamides': 1, 'thiosemicarbazides': 1, 'pyrimidine acyclic nucleoside phosphonates': 1, 'alkenyl acyclic nucleoside phosphonate': 1, 'tricyclic penciclovir': 1, 'hydroxybutylguanine': 1, 'phosphorus': 1, 'tritium': 1, 'hesperetin': 1, '[25]': 1, 'bananins': 1, 'sulfates': 1, 'hydroxy': 1, 'tildipirosin': 1, 'fludarabine': 1, 'acha': 1, 'amoxicillin': 1, 's-nitroso-n-acetylpenicillamine': 1, 'quinazolin-4(3h)-one': 1, 'quinazolinone–thiazolidine–quinoline': 1, 'gentian violet': 1, 'tebipenem pivoxil': 1, 'norkurarinol': 1, '5-bromo-2-(4-chlorobenzoyl)-(z)-3-(2-cyano-3-hydroxybut-2-enonyl)aminobenzo[b]furan': 1, 'oxymetazoline': 1, 'acylguanidines': 1, '5′-triphosphate': 1, 'potassium persulfate': 1, 'halogen': 1, 'ag–tio2': 1, 'cu-doped tio2': 1, 'organic amine': 1, 'rimantadine': 1, 'zeolites': 1, 'campesin': 1, 'polyhydroxyalkanoate': 1, 'sorafenib': 1, 'n-acetyl-l-cystine': 1, 'arbidol hydrochloride': 1, 'n2': 1, 'anisodamine': 1, 'iridoids': 1, '2-imino-(3,4-dimethoxybenzyl) ethanesulfonic acid schiff base': 1, 'drodvir': 1, 'fedratinib': 1, 'nucleotide acids': 1, 'epigallocatechin gallate': 1, 'polyhydroxybutyrate': 1, 'h2o': 1, 'flavonoid glycosides': 1, 'squalene': 1, '9, 19-cyclolanostane glycosides': 1, 'phenylalanine': 1, 'c-geranylated flavonoids': 1, 'h2o2': 1, 'pentagamavunon-0': 1, '(±)-thia-calanolide a': 1, '4-(1-aryl-2-oxo-1,2-dihydro-indol-3-ylideneamino)-n-substituted benzene sulfonamides': 1, 'quercetrin': 1, 'tauroursodeoxycholic acid': 1, 'oxadiazolones': 1, 'disulfur': 1, 'c2h2n2xy': 1, 'petroleum hydrocarbons': 1, 'glycopyrronium': 1, 'transition metal': 1, 'adamantanes': 1, '(18)f-fdg': 1, 'dehydroandrographolide succinate': 1, 'l’informazione': 1, 'abidol': 1, 'tenofovir alafenamide fumarate': 1, 'tetranucleotide': 1, '1-cinnamoyl-3, 11-dihydroxymeliacarpin': 1, 'alanine': 1, 'thiolate': 1, 'penetrene': 1, 'acridine': 1, 'enediynyl': 1, 'fluconazole': 1, 'esfenvalerate': 1, 'di-basic amino acid': 1, 'γ-cyclodextrin': 1, 'poly(i:c': 1, 'sphingomyelin': 1, 'colchicine': 1, 'tetromycin': 1, 'bioflavonoid': 1, '1,3-diphenyl-4,5-dihydro-1h-pyrazol-5-one': 1, 'eicosanoids': 1, 'flotillins': 1, 'retinoid': 1, 'rapamycin': 1, 'oroxylin-a': 1, '18β-glycyrrhetinic acid': 1, 'azole': 1, 'mizoribine monophosphate': 1, 'sufentanil': 1, 'midazolam': 1, 'ethyl 4-(5-bromo-1h-indol-3-yl)': 1, 'saikosaponin-d': 1, 'berberine alkaloids': 1, 'creatine': 1, 'ethyl acetate': 1, 'chloroform': 1, '1-substituted pyridylimidazo[1,5-a]pyridine': 1, 'chebulagic acid': 1, 'punicalagin': 1, 'spironolactone': 1, 'cineole': 1, 'halistanol sulfate': 1, 'halistanol sulfate c': 1, 'spiro(indoline-pyranodioxine)': 1, 'montmorillonite': 1, 'copper (ii)': 1, 'acyl-coa': 1, 'vitamin d(3)': 1, 'sodium houttuyfonate': 1, 'silver sucrose octasulfate': 1, 'mpp(+)': 1, 'diamine': 1, 'docetaxel': 1, 'chlorphenamine': 1, 'phenylephrine': 1, 'cyclic guanosine monophosphate': 1, 'angiotensin-(1–7)': 1, '5-chloro-2-hydroxy-n-[1-oxo-1-(phenylamino)alkan-2-yl]benzamides': 1, 'acetone': 1, '1,2,3,4,6-penta-o-galloylglucose': 1, '18-β-glycyrrhetinic acid': 1, 'astragalin': 1, 'co(2+)': 1, 'mn(2+)': 1, 'zinc oxides': 1, 'magnolol': 1, 'honokiol': 1, 'cholesteryl': 1, 'quercetin glycosides': 1, '(18)f-fluorodeoxyglucose': 1, 'polyethylene': 1, 'isoquinoline alkaloids': 1, 'n‐acetyl‐galactosamine': 1, 'prostaglandin e(2)': 1, 'β-keto esters': 1, 'citric acid': 1, '(r,s)-goitrin': 1, 'hoogsteen hydrogen': 1, 'histidines': 1, 'indoleamine': 1, 'graphene–silver': 1, 'diadenosine tetraphosphate': 1, 'sildenafil': 1, 'periplocoside e': 1, 'para-phenylenediamine': 1, 'phosphorylated serine': 1, 'co(2)': 1, 'clomiphene': 1, 'uric acid': 1, 'diminazene aceturate': 1, 'quinoxaline 1,4-di-n-oxides': 1, 'inosine pranobex': 1, 'luteolosides': 1, 'vitamins a, d, e': 1, 'beta-penetrenes': 1, 'benzo-heterocyclic amine': 1, 'inosine-5’-monophospate': 1, 'phosphatidylinositol-3-phosphate': 1, 'phenanthrenes': 1, 'myricitrin': 1, 'nicarbazin': 1, 'hydrazonoindolin-2-ones': 1, 'mesalamine': 1, 'o-acetylated sialic acids': 1, '7,7″-dimethoxyagastisflavone': 1, 'cetylpyridinium chloride': 1, 'dihydroberberine': 1, '1,3,4-thiadiazole': 1, '[(18)f]fdg': 1, '[(68)ga]ga-citrate': 1, '[(11)c]methionine': 1, '[(11)c]donepezil': 1, '3-hydroxy-3-methylglutaryl': 1, 'bisindole alkaloid': 1, '3′-sialyllactose': 1, 'nicotinamide': 1, 'vitamin b2': 1, 'thioacetamide': 1, 'linagliptin': 1, 'biliverdin': 1, 'cyclic diarylheptanoids': 1, 'd-mannitol': 1, 'thiopyrano[2,3-d]thiazoles': 1, 'phenolics': 1, 'forskolin': 1, 'azt': 1, 'cyclohexapeptide': 1, 'ochratoxin-a': 1, 'polyanhydride': 1, 'naringenin': 1, 'hypochlorous acid': 1, 'amentoflavone': 1, 'biflavonoid': 1, 'sulfur dioxide': 1, 'tetraspanin': 1, 'n-substituted phenylbenzamides': 1, 'catechins': 1, 'n3-substituted 6-bromoquinazolinones—synthesis': 1, 'aconitine alkaloids': 1, 'nhe3': 1, 'etacrynic acid': 1, '2,3-dioxo-5-(substituted)arylpyrroles': 1, '2-oxo-5-aryl-3-hydrazone pyrrolidine': 1, '(-)-pinene': 1, 'n(4)-aryl substituted 5-trifluoromethoxyisatin-3-thiosemicarbazones': 1, 'benzylidene-bis-(4-hydroxycoumarin)': 1, 'benzopyrano-coumarin': 1, '(13)c-nmr': 1, '4-metoxychalcones': 1, 'bisindole': 1, 'saponins': 1, '18α-glycyrrhetinic acid': 1, 'phosphonylated 1,2,3-triazolenaphthalimide': 1, 'polyinosinic-polycytidylic acid': 1, 'phosphonylated acyclic guanosine': 1, 'savinin': 1, '(e)-1-(2-hydroxy-4,6-dimethoxyphenyl)-3-(naphthalen-1-yl)prop-2-en-1-one': 1, 'drugs—chloroquine': 1, 'galanthamine': 1, 'dichloro-phenyl-benzotriazoles': 1, 'terpenyl-1,4-naphthoquinone': 1, '1,4-anthraquinone': 1, '2-undecanone': 1, 'benzo(a)pyrene-induced': 1, 'metronidazole': 1, 'acacetin': 1, 'isoginkgetin': 1, 'tigecycline': 1, 'kynurenine': 1, 'cysteinyl': 1, 'galloyl-hexahydroxydiphenoyl': 1, 'nafamostat mesylate': 1, '3-hydroxyphthalic': 1, 'emetine': 1, 'aflatoxin': 1, 'bis-benzylisoquinoline': 1, 'fangchinoline': 1, 'tocopheryl polyethylene glycol succinate': 1, '[pyr(1)]apelin-13': 1, 'guanosine nucleotide': 1, 'vitamins a, d(3),': 1, 'iridoid glycosides': 1, 'n-acetyl-galactosamine': 1, 'brefeldin-a': 1, 'phorbol esters': 1, 'leu tetrapeptide': 1, 'mannose 6–phosphate': 1, 'beta-galactoside': 1, 'cyclic-di-gmp': 1, 'aminobisphosphonate pamidronate': 1, '2′o-ribose': 1, 'glucose 6-phosphate': 1, 'germanium biotite': 1, 'imatinib mesylate': 1, 'poly(lactic-co-glycolic) acid': 1, 'imino sugar': 1, 'methamphetamine': 1, 'tanshinone iia': 1, 'poly (propylene glycol)': 1, 'xyloketal b': 1, 'aluminum salts': 1, 'fio(2)': 1, 'rosuvastatin': 1, 'paclitaxel': 1, '3-hydroxy-3-methylglutaryl coa': 1, 'xanthine': 1, 'enrofloxacin': 1, 'cloxacillin': 1, 'dimethyloxaloylglycine': 1, 'lobeglitazone': 1, 'thiazolidinedione': 1, 'levodopa': 1, 'hexylresorcinol': 1, 'allopurinol': 1, 'n-methyl-glucamine': 1, 'acetate ringer': 1, 'dextrose': 1, 'triamcinolone acetonide': 1, 'dntp': 1, 'n-butanol': 1, 'hinokiflavone': 1, 'ccl(4)': 1, 'oleanolic': 1, 'glycyrrhetinic acids': 1, 'trimethoprim': 1, 'sulfamethoxazole': 1, 'xylometazoline hydrochloride': 1, 'alprostadil': 1, 'oleic acid': 1, 'glycyrrhizinic acid': 1, 'denatonium benzoate': 1, 'tamoxifen': 1, 'metformin': 1, 'hexanucleotides': 1, 'theaflavin-3,3′-digallate': 1, 'h2': 1, 'octo-uridine': 1, 'formaldehyde': 1, 'glabridin': 1, 'polyethyelene glycol': 1, 'jasmonic acid': 1, 'lacl(3)': 1, 'vincristine–oleic acid': 1, 'poly(i:c)': 1, 'triterpenes': 1, 'piperacillin': 1, 'tazobactam': 1, 'organic carbamates': 1, 'chlorhexidine gluconate': 1, 'sodium iodide': 1, 'acne': 1, 'toxoflavin': 1, 'tetraspanins': 1, '9-o-acetylated sialic acids': 1, 'ketamine–dexmedetomidine': 1, 'salinomycin': 1, 'raltegravir': 1, 'glycyrrhetinic acid 3-o-mono-β-d-glucuronide': 1, 'phosphoserine': 1, 'ribonucleoside': 1, 'cyclic dinucleotide': 1, 'aspartate': 1, 'dicarboxylates': 1, 'β-d-n(4)-hydroxycytidine': 1, 'isatinyl': 1, 'indanyl nitrones': 1, '11β-hydroxysteroid': 1, '[(18)f]-fluorodeoxyglucose': 1, '(9) bradykinin': 1, 'polyamines': 1, 'pterostilbene': 1, '17-dmag': 1, 'pentraxin-3': 1, 'aryloxazole': 1, 'prostaglandin d(2)': 1, 'chalcone': 1, 'polyalanine': 1, 'ccl2': 1, 'clofarabine': 1, 'cytosine arabinoside': 1, 'bupivacaine': 1, '9-o-acetyl sialic acids': 1, 'methionine': 1, '6-diazo-5-oxo-l-norleucine': 1, 'nitrosamine ketone': 1, 'desmosterol': 1, 'arsenic': 1, '2-cyano-3-acrylamide': 1, 'carprofen gel': 1, 'n,n-diphenylamines': 1, 'phosphatidylethanolamine': 1, 'ω3 polyunsaturated fatty acids': 1, 'endosulfan': 1, 'hippuristanol': 1, 'tramadol': 1, 'dipeptidyl aldehydes': 1, 'α-ketoamides': 1, 'resveratrol tetramer': 1, '2′-c-methyl-cytidine triphosphates': 1, 'cystine': 1, 'flunarizine': 1, 'bilirubin': 1, 'diminazene': 1, 'copper pyrithione': 1, 'kallistatin': 1, '2-(isoxazol-3-yl)-2-oxo-n′-phenyl-acetohydrazonoyl cyanide': 1, '5-nonyloxytryptamine': 1, 'carboxyl-carboxylate': 1, 'licochalcone a': 1, 'triterpenoid': 1, 'europium': 1, 's-[2,3-bispalmitoyiloxy-(2r)-propyl]-r-cysteinyl-amido-monomethoxy polyethylene glycol': 1, 'zn superoxide': 1, 'alendronate': 1, '3′-(4′-hydroxyl-3′,5′-dimethoxyphenyl)propionic acid': 1, 'nh(2)': 1, 'bms-791325': 1, 'azapropellanes': 1, 'sulfonamide': 1, 'mannose-6-phosphate': 1, 'cyanovirin-n': 1, 'scytovirin': 1, 'phenolic dibenzylsulfide': 1, 'nacl': 1, '3-azatetracyclo[5.2.1.1(5,8).0(1,5)]undecane': 1, '23-(s)-2-amino-3-phenylpropanoyl-silybin': 1, 'aryl hydrocarbon': 1, 'betamethasone': 1, 'thiouracil': 1, 'ipratropium bromide': 1, 'valproic acid': 1, 'benzoxazole': 1, 'cholesterol ester': 1, 'sialic acid n-glycolylneuraminic acid': 1, 'trifluoroketone': 1, 'dilysine': 1, 'l-rhamnose': 1, 'n-(tert-butyl)-2-(n-arylamido)-2-(pyridin-3-yl) acetamides': 1, '(15)n': 1, 'poly(i·c)': 1, '2,2-dialkylamantadines': 1, 'asunaprevir': 1, 'polyphenolics': 1, 'polyglutamine': 1, 'triazolylinosine': 1, 'acyl coenzyme a': 1, 'thiochromanone thiosemicarbazone': 1, 'spirooxindoles': 1, 'hapivirins': 1, 'diprovirins': 1, 'polyinosinic': 1, '2-deoxy-2-(18f)fluoro-d-glucose': 1, 'poly(c)': 1, 'glycyrrhizin([c': 1, 'pgd(2': 1, 'morphine': 1, 'n-methyl-d-aspartate': 1, 'rupintrivir': 1, 'fluorodeoxycytidine': 1, '4′-ethynyl-2′-deoxy-4′-thioribonucleosides': 1, 'aflatoxin b(1': 1, 'benzenesulfonyl-pyrazol-ester': 1, 'fumonisin b1': 1, 'biotin': 1, 'glutathionylspermidine': 1, '5-(4-phenoxybutoxy)psoralen': 1, 'β-propiolactone': 1, 'tryptose sulfite cycloserine': 1, 'oxocarbazate': 1, 'hydrocarbon': 1, 'medroxyprogesterone': 1, '6-bromo-': 1, '6-chloropurine nucleosides': 1, 'fentanyl': 1, 'tetracyclines': 1, 'bepridil': 1, 'pyridine nucleotide': 1, 'l-ficolin': 1, 'triglyceride': 1, 'hydroxylated sclerosporin': 1, '2′,3′-cyclic phosphates': 1, 'β-l-2′,3′-didehydro-2′,3′-dideoxy-n(4)-hydroxycytidine': 1, 'flavocoxid': 1, 'l-amino acids': 1, '4-(2-aminophenyl)-morpholines': 1, 'sphingosine 1-phosphate': 1, 'epoxyeicosatrienoic': 1, '[(18)f]-': 1, '[(11)c]-labeled n-benzyl-isatin sulfonamide': 1, 'polyether': 1, 'tannic acid': 1, 'anibamine': 1, 'picornaviridae': 1, 'halomethyl ketone': 1, 'asparagine': 1, 'fluorescein': 1, 'zinc mesoporphyrin': 1, 'aromatic amino acids': 1, 'notoginsenoside r1': 1, 'benzalkonium salts': 1, 'mitoxantrone': 1, 'n-acetylglucosamine': 1, 'seco-pregnane steroids': 1, 'n(4)-hydroxy-': 1, '5-methyl-β-l-deoxycytidine': 1, 'pradimicin a': 1, 'triaryl pyrazoline': 1, '7-nucleotide': 1, 'viramidine': 1, 'zinc finger': 1, 'arsenic trioxide': 1, 'mitomycin c': 1, 'leukotriene lte(4)': 1, 'geldanamycin': 1, '4-o-acetylated sialic acids': 1, 'uridines': 1, 'nitric-oxide': 1, 'prostaglandin d': 1, 'di-leucine': 1, 'acidic amino acids': 1, '3-fucosyl-n-acetyl-lactosamine': 1, 'hydrocarbons': 1, 'nitrotyrosine': 1, 'semilysobisphosphatidic acid': 1, 'methacholine': 1, 'hypochlorite': 1, 'polycistronic (tri- or bicistronic)': 1, 'sulbactam': 1, 'thiols': 1, 'phorbol': 1, 'asinine': 1, 'n-butyldeoxynojirimycin': 1, 'alkenyl guanine': 1, 'thiazolo[4,5-d]pyrimidine': 1, '8-aminoquinolines': 1, \"1,1'-ethylidenebis\": 1, 'l-tryptophan)': 1, 'pirodavir': 1, 'phenoxy-pyridazinamine': 1, '9-o-acetylated sialic acid': 1, '1,3,4-thiadiazol-2-ylcyanamide': 1, 'thymine': 1, 'chalcone ro 09-0410': 1, 'deferoxamine': 1, 'amprolium': 1, 'furazolidone': 1, '16, 16 dimethyl prostaglandin e2': 1, '2,3,5,6,7,8-hexahydro-2-phenyl-8,8-dimethoxy-imidazo[1,2a]pyridine': 1, 'monoglycerides': 1, \"6-substituted 2-(3',4'-dichlorophenoxy)-2h-pyrano[2,3-b]pyridines mdl 20,610\": 1, 'mdl 20,646': 1, 'mdl 20,957': 1, 'trehalose dimycolate': 1, 'swainsonine': 1, '2-(3,4-dichlorophenoxy)-5-nitrobenzonitrile': 1, 'dichromate': 1, \"5'-end nucleotides\": 1, 'aphidicolin': 1, 'isoprinosine': 1, '(h(3)n(2))': 1, 'nicotinamide–adenine': 1, '6′-fluorinated-aristeromycin': 1, 'empagliflozin': 1, 'puerarin': 1, 'polyproline-10': 1, 'catecholamine': 1, 'tungsten oxide': 1, 'wo3-x': 1, 'azabinol': 1, '7-isopropoxy-8-(naphth-1-yl)quinoline': 1, 'epigallocatechin-3-gallate': 1, 'primary amines': 1, 'cuprizone': 1, 'alpha-ketoamides': 1, 'darunavir': 1, 'α-ketoamide': 1, 'sodium-bile acid': 1, 'tilorone': 1, 'alcohols': 1, 'corticosteroid ciclesonide': 1, 'o2o': 1, 'huoshenshan': 1, 'dipyridamole': 1, 'diaryl-quinoline': 1, 'naphthalene diimides': 1, '1,3-butadiene': 1, 'xylitol': 1, 'baricitinib': 1, 'aminobenzosuberone': 1, 'apba3': 1, 's-adenosylmethionine': 1, 'alkyl-imino sugars': 1, 'somatostatin': 1, 'benzopolycyclic cage amines': 1, 'nmda': 1, 'uridine': 1, 'n-desmethylclozapine': 1, 'fluoxetine': 1, 'saracatinib': 1, 'bile acids': 1, 'imidazole-4,5-dicarboxylic acid': 1, 'quinazolinones—synthesis': 1, 'cpg dinucleotide': 1, 'coumarin': 1, 'uracil': 1, '5-halouracils': 1, 'clindamycin': 1, 'n-acetylglucosamine-1-phosphate': 1, 'quinoline': 1, 'salicylanilide': 1, '7α-hydroxy-4-cholesten-3-one': 1, 'bile acid': 1, 'phosphonooxymethyl': 1, 'phenazine': 1, 'acylsemicarbazide': 1, 'halogenated dihydrorugosaflavonoids': 1, 'galactose-1-phosphate': 1, 'carbocyclic nucleosides 5′-homocarbovir': 1, 'cyclopropylamine': 1, 'mos(2)': 1, 'poly(c': 1, 'triclocarban': 1, 'floribundiquinone b': 1, '2-mercaptoethanol': 1, 'isoliquiritigenin': 1, 'glycyrrhetinic acid monoglucuronide': 1, 'cyclooctaoxygen': 1, 'triazoles': 1, 'titania': 1, 'α-penetrene': 1, 'ciprofloxacin': 1, 'n-(benzo[1,2,3]triazol-1-yl)-n-(benzyl)acetamido)phenyl) carboxamides': 1, 'hydroxypropyl': 1, 'phthalate': 1, 'acetyl-l-carnitine': 1, 'ribonucleosides': 1, '1,2,3‐triazolylbenzyl‐aminophosphonates': 1, 'poly-basic amino acids': 1, 'oleuropein': 1, 'piperidine': 1, 'halogenaniline fumardiamides': 1, 'n(4)-hydroxycytidine': 1, 'rocaglate cr-31-b': 1, 'benzoxaborole': 1, 'acyclic phosphonate nucleotide': 1, '5,6-dihydro-1h-[1,2,3]triazolo[4,5-d]pyridazine-4,7-dione': 1, 'naphtalene diimide': 1, '1-alkoxy-1h-benzo-': 1, '7-azabenzotriazoles': 1, 'indole alkaloid': 1, '10-(3-(dimethylamino)propyl)phenothiazine': 1, '5′-fluoro-5′-deoxyaristeromycin': 1, 'cisplatin': 1, 'isopeptide': 1, 'β-galactosamide': 1, 'cystathionine': 1, 'n-heterocyclic carbene': 1, 'c(3': 1, 'sulfone': 1, 'p-methylaminophenol': 1, 'erythromycin estolate': 1, 'pyrazolylnucleosides': 1, 'oxacillin': 1, 'netilmicin': 1, 'adenosine nucleoside': 1, 'adenosines': 1, 'c(18)h(26)cin(3)': 1, '(2-oxaadamant-1-yl)amines': 1, 'pimozide': 1, 'hydrogen sulfide': 1, '[(18)f': 1, 'doxorubicin': 1, 'poly(amidoamine)': 1, '2,3,7,8-tetrachlorodibenzo-p-dioxin': 1, 'tetrachloroethylene': 1, 'pyruvate': 1, 'marilones a–c': 1, 'phthalides': 1, 'guanidinium chloride': 1, 'acyclic fleximer nucleoside': 1, 'atanyl blue prl': 1, 's-nitroso-n-acetyl-d-penicillamine': 1, 'acylated steroidal glycosides': 1, 'γ-lactam': 1, 'chloropyridyl': 1, '2-hydroxy-4-methoxybenzaldehyde': 1, '2-benzoylamino-n-phenyl-benzamide': 1, 'n′-(2-oxoindolin-3-ylidene)-2-propylpentane hydrazide-hydrazones': 1, 'tetracycline': 1, 'lysophosphatidic acid': 1, 'nitro-': 1, 'hydroxy-substituted salicylaldehydes': 1, '2-amidinopropane': 1, 'poly(allylamine hydrochloride)': 1, 'fluocinolone acetonide': 1, 'estrogens': 1, 'n-acetylmannosamine': 1, 'phenylboronic acid': 1})"
     ]
    },
    {
     "name": "stdout",
     "output_type": "stream",
     "text": [
      "\n"
     ]
    }
   ],
   "source": [
    "import collections\n",
    "ctr = collections.Counter(drug_list)\n",
    "print(\"Frequency of the elements in the List : \",ctr)"
   ]
  },
  {
   "cell_type": "code",
   "execution_count": 17,
   "metadata": {},
   "outputs": [],
   "source": [
    "top_20 = ctr.most_common(20)"
   ]
  },
  {
   "cell_type": "code",
   "execution_count": 18,
   "metadata": {},
   "outputs": [
    {
     "data": {
      "text/plain": [
       "[('amino acid', 65),\n",
       " ('ribavirin', 56),\n",
       " ('nitric oxide', 51),\n",
       " ('cysteine', 50),\n",
       " ('chloroquine', 40),\n",
       " ('serine', 38),\n",
       " ('sialic acid', 38),\n",
       " ('cholesterol', 30),\n",
       " ('glycyrrhizin', 28),\n",
       " ('zinc', 27),\n",
       " ('amino acids', 22),\n",
       " ('oxygen', 22),\n",
       " ('nucleoside', 20),\n",
       " ('disulfide', 20),\n",
       " ('tyrosine', 20),\n",
       " ('lactate', 19),\n",
       " ('carbon', 19),\n",
       " ('quercetin', 18),\n",
       " ('silver', 18),\n",
       " ('carbohydrate', 17)]"
      ]
     },
     "execution_count": 18,
     "metadata": {},
     "output_type": "execute_result"
    }
   ],
   "source": [
    "top_20"
   ]
  },
  {
   "cell_type": "code",
   "execution_count": 19,
   "metadata": {},
   "outputs": [],
   "source": [
    "from collections import Counter\n",
    "drug_counts = Counter(drug_list)\n",
    "drug_df = pd.DataFrame.from_dict(drug_counts, orient='index')\n",
    "drug_df.columns = ['count']"
   ]
  },
  {
   "cell_type": "code",
   "execution_count": 20,
   "metadata": {},
   "outputs": [],
   "source": [
    "drug_df[].columns = ['count']"
   ]
  },
  {
   "cell_type": "code",
   "execution_count": 21,
   "metadata": {},
   "outputs": [],
   "source": [
    "drug_df = drug_df.sort_values(by='count', ascending=True)"
   ]
  },
  {
   "cell_type": "code",
   "execution_count": 24,
   "metadata": {},
   "outputs": [],
   "source": [
    "import matplotlib.pyplot as plt"
   ]
  },
  {
   "cell_type": "code",
   "execution_count": 28,
   "metadata": {},
   "outputs": [
    {
     "data": {
      "image/png": "[encoded data removed]",
      "text/plain": [
       "<Figure size 432x288 with 1 Axes>"
      ]
     },
     "metadata": {
      "needs_background": "light"
     },
     "output_type": "display_data"
    }
   ],
   "source": [
    "drug_dist = drug_df[drug_df].tail(20).plot.barh()"
   ]
  },
  {
   "cell_type": "code",
   "execution_count": 26,
   "metadata": {},
   "outputs": [
    {
     "data": {
      "text/plain": [
       "<Figure size 432x288 with 0 Axes>"
      ]
     },
     "metadata": {},
     "output_type": "display_data"
    }
   ],
   "source": [
    "plt.savefig(\"C:/Users/itsma/Documents/ADE/CORD-19-research-challenge/2020-03-13/top_chems.jpg\", dpi=1000,bbox_inches='tight')"
   ]
  },
  {
   "cell_type": "code",
   "execution_count": 37,
   "metadata": {},
   "outputs": [],
   "source": [
    "fig = drug_dist.get_figure()\n",
    "fig.savefig('C:/Users/itsma/Documents/ADE/CORD-19-research-challenge/2020-03-13/top_chems.jpg',dpi=1000,bbox_inches='tight')"
   ]
  },
  {
   "cell_type": "code",
   "execution_count": 36,
   "metadata": {},
   "outputs": [
    {
     "data": {
      "image/png": "[encoded data removed]",
      "text/plain": [
       "<Figure size 432x288 with 1 Axes>"
      ]
     },
     "metadata": {
      "needs_background": "light"
     },
     "output_type": "display_data"
    }
   ],
   "source": [
    "drug_dist = drug_df.tail(20).plot.barh()"
   ]
  },
  {
   "cell_type": "code",
   "execution_count": 40,
   "metadata": {},
   "outputs": [
    {
     "name": "stdout",
     "output_type": "stream",
     "text": [
      "in vitro inhibition of severe acute respiratory syndrome coronavirus by chloroquine\n"
     ]
    }
   ],
   "source": [
    "for entry in all_processed_articles:\n",
    "    if('chloroquine' in entry['title']):\n",
    "        print(entry['title'])\n",
    "        break"
   ]
  },
  {
   "cell_type": "code",
   "execution_count": null,
   "metadata": {},
   "outputs": [],
   "source": []
  }
 ],
 "metadata": {
  "kernelspec": {
   "display_name": "Python 3.7.4 64-bit ('base': conda)",
   "language": "python",
   "name": "python37464bitbasecondab189137550194d64ad595e9dd8ef8b75"
  },
  "language_info": {
   "codemirror_mode": {
    "name": "ipython",
    "version": 3
   },
   "file_extension": ".py",
   "mimetype": "text/x-python",
   "name": "python",
   "nbconvert_exporter": "python",
   "pygments_lexer": "ipython3",
   "version": "3.7.4"
  }
 },
 "nbformat": 4,
 "nbformat_minor": 2
}
